{
 "cells": [
  {
   "cell_type": "markdown",
   "metadata": {},
   "source": [
    "# TFL Calculator"
   ]
  },
  {
   "cell_type": "code",
   "execution_count": 17,
   "metadata": {},
   "outputs": [],
   "source": [
    "import math\n",
    "from collections import deque\n",
    "\n",
    "class Queue:\n",
    "    def __init__(self):\n",
    "        self.queue = deque()\n",
    "    def enqueue(self, item):\n",
    "        self.queue.append(item)\n",
    "    def dequeue(self):\n",
    "        if len(self.queue) < 1:\n",
    "            return None\n",
    "        return self.queue.popleft()\n",
    "    def size(self):\n",
    "        return len(self.queue)\n",
    "    def isEmpty(self):\n",
    "        return len(self.queue) == 0\n",
    "    def get_length(self):\n",
    "        return len(self.queue)\n",
    "\n",
    "class Stack:\n",
    "    def __init__(self):\n",
    "        self.stack = []\n",
    "    def add_to_stack(self,item):\n",
    "        self.stack.append(item)\n",
    "    def pop_from_stack(self):\n",
    "        self.stack.pop()\n",
    "            \n",
    "class Vertex:\n",
    "    def __init__(self, name):\n",
    "        self.name = name\n",
    "        self.adjacent = []\n",
    "\n",
    "    def add_neighbor(self, neighbor, weight=0,line=''):\n",
    "        self.adjacent.append((neighbor,weight,line))\n",
    "        \n",
    "    def get_connections(self):\n",
    "        return self.adjacent\n",
    "    \n",
    "    def get_name(self):\n",
    "        return self.name\n",
    "    \n",
    "    def get_weight(self, neighbor):\n",
    "        for x in self.adjacent:\n",
    "            if x[0].name == neighbor:\n",
    "                return x[1]\n",
    "        return None\n",
    "    \n",
    "class Graph:\n",
    "    def __init__(self):\n",
    "        self.graph = {}\n",
    "\n",
    "    def __iter__(self): \n",
    "        return iter(self.graph.values())\n",
    "\n",
    "    def add_vertex(self, node):\n",
    "        new_vertex = Vertex(node)\n",
    "        self.graph[node] = new_vertex\n",
    "\n",
    "    def get_vertex(self, n):\n",
    "        if n in self.graph:\n",
    "            return self.graph[n]\n",
    "        else:\n",
    "            return None\n",
    "    def get_vertices(self):\n",
    "        return self.graph.keys()\n",
    "    \n",
    "    def add_edge(self,frm, to, cost = 0,line=''):\n",
    "        if frm not in self.graph:\n",
    "            self.add_vertex(frm)\n",
    "        if to not in self.graph:\n",
    "            self.add_vertex(to)\n",
    "        self.graph[frm].add_neighbor(self.graph[to], cost,line)\n",
    "        self.graph[to].add_neighbor(self.graph[frm], cost, line)"
   ]
  },
  {
   "cell_type": "code",
   "execution_count": 18,
   "metadata": {},
   "outputs": [],
   "source": [
    "def euclidean_distance(lon1, lat1, lon2, lat2):\n",
    "    radius = 6371\n",
    "    lat1 = lat1 * math.pi / 180\n",
    "    lat2 = lat2 * math.pi / 180\n",
    "    lon1 = lon1 * math.pi / 180\n",
    "    lon2 = lon2 * math.pi / 180\n",
    "    dlat = lat2 - lat1\n",
    "    dlon = lon2 - lon1 \n",
    "    x = dlon * math.cos((lat1 + lat2) / 2)\n",
    "    y = dlat\n",
    "    distance = radius * math.sqrt(x**2 + y**2)\n",
    "    distance = distance * (5/8)\n",
    "    return distance\n",
    " \n",
    "def dfs_iterative(graph, start_vertex):\n",
    "    path = []\n",
    "    stack = [start_vertex]\n",
    "    while(len(stack) != 0):\n",
    "        s = stack.pop()\n",
    "        if s not in path:\n",
    "            path.append(s)\n",
    "        if s not in graph:\n",
    "            continue\n",
    "        for neighbor in graph[s]:\n",
    "            stack.append(neighbor)\n",
    "    return path"
   ]
  },
  {
   "cell_type": "code",
   "execution_count": 19,
   "metadata": {
    "scrolled": true
   },
   "outputs": [],
   "source": [
    "import pandas as pd\n",
    "import heapq\n",
    "from collections import defaultdict\n",
    "class Railway():\n",
    "    def __init__(self):\n",
    "        self.railway = Graph()   \n",
    "        self.stations = []\n",
    "        self.latitudes = []\n",
    "        self.longitudes = []\n",
    "    def loadRailway(self):\n",
    "        df = pd.read_csv('stations.csv')\n",
    "        \n",
    "        self.stations = df['Station name'].to_list()\n",
    "        self.latitudes = df['Latitude'].to_list()\n",
    "        self.longitudes = df['Longitude'].to_list()\n",
    "        \n",
    "        df = pd.read_csv('connections.csv')\n",
    "        \n",
    "        fromStations = df['From Station'].to_list()\n",
    "        toStations = df['To Station'].to_list()\n",
    "        \n",
    "        for i in range(0,len(fromStations)):\n",
    "            fromIndex = self.stations.index(fromStations[i])\n",
    "            toIndex = self.stations.index(toStations[i])\n",
    "            flong = self.longitudes[fromIndex]\n",
    "            flat = self.latitudes[toIndex]\n",
    "            tlong = self.longitudes[toIndex]\n",
    "            tlat = self.latitudes[fromIndex]\n",
    "            weight = euclidean_distance(flong,flat,tlong,tlat)\n",
    "            self.railway.add_edge(fromStations[i],toStations[i],weight)\n",
    "    \n",
    "    def minStops(self, fromS, toS):\n",
    "        queue = Queue()\n",
    "        queue.enqueue([fromS])\n",
    "        visited = set()\n",
    "        while queue.size() != 0:\n",
    "            path = queue.dequeue()\n",
    "            vertex = path[-1]\n",
    "            if vertex == toS:\n",
    "                return path\n",
    "            elif vertex not in visited:\n",
    "                for x in self.railway.get_vertex(vertex).get_connections():\n",
    "                    new_path = list(path)\n",
    "                    new_path.append(x[0].name)\n",
    "                    queue.enqueue(new_path)\n",
    "                visited.add(vertex)\n",
    "        return minStops\n",
    "    \n",
    "    def minDistance(self, fromS, toS):\n",
    "        minDistance = 0\n",
    "        distances = {}\n",
    "        for vertex in self.railway:\n",
    "            distances[vertex.name] = float('inf')\n",
    "            \n",
    "        distances[fromS] = 0\n",
    "        priority_queue = [(0, fromS)]\n",
    "        while len(priority_queue) > 0:\n",
    "            current = heapq.heappop(priority_queue)\n",
    "            current_distance = current[0]\n",
    "            current_vertex = current[1] \n",
    "            if current_distance > distances[current_vertex]:\n",
    "                continue\n",
    "            else:            \n",
    "                for neighbour in self.railway.get_vertex(current_vertex).get_connections():\n",
    "                    old_distance = current_distance + neighbour[1]\n",
    "                    if old_distance < distances[neighbour[0].name]:\n",
    "                        distances[neighbour[0].name] = old_distance\n",
    "                        heapq.heappush(priority_queue, (old_distance, neighbour[0].name))\n",
    "            minDistance = distances[toS]\n",
    "        return round(minDistance,4)\n",
    "    \n",
    "    \n",
    "    def travellingSalesMan(self, inputList):\n",
    "        network = Graph()\n",
    "        seen = []\n",
    "        for from_ in inputList:\n",
    "            network.add_vertex(from_)\n",
    "            for to in inputList:\n",
    "                if from_ not in seen:\n",
    "                    if to != from_:\n",
    "                        toLat = self.latitudes[self.stations.index(to)]\n",
    "                        toLon = self.longitudes[self.stations.index(to)]\n",
    "                        fromLat = self.latitudes[self.stations.index(from_)]\n",
    "                        fromLon = self.longitudes[self.stations.index(from_)]\n",
    "                        weight = euclidean_distance(toLon,toLat,fromLon,fromLat)\n",
    "                        network.add_edge(from_,to,weight)\n",
    "                    seen.append(to)\n",
    "        starting_vertex = inputList[0]\n",
    "        max_ = 0\n",
    "        for station in inputList:\n",
    "            sum_ = 0\n",
    "            for x in network.get_vertex(station).get_connections():\n",
    "                sum_ += x[1]\n",
    "            if sum_ > max_:\n",
    "                max_ = sum_\n",
    "                starting_vertex = station\n",
    "                \n",
    "        mst = defaultdict(set)\n",
    "        visited = set([starting_vertex])\n",
    "        edges = []\n",
    "        for neighbour in network.get_vertex(starting_vertex).get_connections():\n",
    "            edges.append((neighbour[1], starting_vertex, neighbour[0].name))\n",
    "        heapq.heapify(edges)\n",
    "        \n",
    "        while len(edges) > 0:\n",
    "            current_edge = heapq.heappop(edges)\n",
    "            from_ = current_edge[1]\n",
    "            to = current_edge[2]\n",
    "            if to not in visited:\n",
    "                visited.add(to)\n",
    "                mst[from_].add(to)\n",
    "                for neighbour in network.get_vertex(to).get_connections():\n",
    "                    if neighbour[0].name not in visited:\n",
    "                        heapq.heappush(edges, (neighbour[1], to, neighbour[0].name))\n",
    "        keys = list(mst.keys())\n",
    "        visited = dfs_iterative(mst,keys[0])\n",
    "        return(visited)"
   ]
  },
  {
   "cell_type": "markdown",
   "metadata": {},
   "source": [
    "# Test Data"
   ]
  },
  {
   "cell_type": "code",
   "execution_count": 20,
   "metadata": {},
   "outputs": [],
   "source": [
    "mapper = Railway()\n"
   ]
  },
  {
   "cell_type": "code",
   "execution_count": 21,
   "metadata": {},
   "outputs": [],
   "source": [
    "mapper.loadRailway()\n"
   ]
  },
  {
   "cell_type": "code",
   "execution_count": 22,
   "metadata": {},
   "outputs": [
    {
     "data": {
      "text/plain": [
       "['Oxford Circus',\n",
       " 'Warren Street',\n",
       " 'Euston',\n",
       " 'Wembley Central',\n",
       " 'Shepherds Bush']"
      ]
     },
     "execution_count": 22,
     "metadata": {},
     "output_type": "execute_result"
    }
   ],
   "source": [
    "mapper.minStops(\"Oxford Circus\",\"Shepherds Bush\")"
   ]
  },
  {
   "cell_type": "code",
   "execution_count": 23,
   "metadata": {},
   "outputs": [
    {
     "data": {
      "text/plain": [
       "3.4604"
      ]
     },
     "execution_count": 23,
     "metadata": {},
     "output_type": "execute_result"
    }
   ],
   "source": [
    "\n",
    "mapper.minDistance(\"Oxford Circus\", \"Shepherds Bush\")"
   ]
  },
  {
   "cell_type": "code",
   "execution_count": 24,
   "metadata": {},
   "outputs": [
    {
     "data": {
      "text/plain": [
       "['Oxford Circus', 'Shepherds Bush', 'White City']"
      ]
     },
     "execution_count": 24,
     "metadata": {},
     "output_type": "execute_result"
    }
   ],
   "source": [
    "\n",
    "mapper.travellingSalesMan([\"Shepherds Bush\",\"Oxford Circus\",\"White City\"])"
   ]
  }
 ],
 "metadata": {
  "kernelspec": {
   "display_name": "Python 3 (ipykernel)",
   "language": "python",
   "name": "python3"
  },
  "language_info": {
   "codemirror_mode": {
    "name": "ipython",
    "version": 3
   },
   "file_extension": ".py",
   "mimetype": "text/x-python",
   "name": "python",
   "nbconvert_exporter": "python",
   "pygments_lexer": "ipython3",
   "version": "3.9.7"
  }
 },
 "nbformat": 4,
 "nbformat_minor": 4
}
